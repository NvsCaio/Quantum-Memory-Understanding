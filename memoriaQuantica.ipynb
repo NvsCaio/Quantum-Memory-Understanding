{
 "cells": [
  {
   "cell_type": "markdown",
   "id": "e07d7a3b-be93-48d8-8682-6f3469a22c7e",
   "metadata": {},
   "source": [
    "# Bibliotecas"
   ]
  },
  {
   "cell_type": "code",
   "execution_count": 3,
   "id": "18956dd1-31ea-40df-b6fe-027caaccacb2",
   "metadata": {},
   "outputs": [],
   "source": [
    "import pennylane as qml\n",
    "from pennylane.templates.layers import RandomLayers\n",
    "\n",
    "import numpy as np\n",
    "import matplotlib.pyplot as plt\n",
    "\n",
    "from sklearn.decomposition import KernelPCA\n",
    "from sklearn import preprocessing"
   ]
  },
  {
   "cell_type": "markdown",
   "id": "a7246764-8f4c-480c-b235-cb36776b2e1b",
   "metadata": {},
   "source": [
    "# Teste de medição"
   ]
  },
  {
   "cell_type": "code",
   "execution_count": 4,
   "id": "b6bc1b56-7d83-41f5-8d13-ac8fddae83f9",
   "metadata": {},
   "outputs": [
    {
     "name": "stdout",
     "output_type": "stream",
     "text": [
      "Resultados das medições: [-1. -1.  1.  1.  1. -1. -1. -1. -1. -1.  1.  1.  1.  1. -1.  1. -1. -1.\n",
      "  1. -1.  1. -1. -1.  1. -1. -1. -1.  1.  1. -1.  1. -1. -1.  1.  1.  1.\n",
      "  1. -1.  1. -1. -1.  1.  1. -1.  1.  1.  1. -1.  1. -1. -1.  1.  1.  1.\n",
      " -1.  1. -1.  1. -1.  1. -1.  1.  1. -1.  1. -1.  1.  1.  1. -1.  1. -1.\n",
      " -1.  1. -1. -1. -1. -1.  1. -1.  1. -1. -1. -1.  1.  1.  1.  1. -1.  1.\n",
      " -1. -1.  1. -1.  1. -1. -1. -1. -1. -1.]\n",
      "Proporção de +1: 0.48\n",
      "Proporção de -1: 0.52\n"
     ]
    }
   ],
   "source": [
    "# Configuração do dispositivo com 1 qubit e 100 shots\n",
    "dev = qml.device(\"lightning.qubit\", wires=1, shots=100)\n",
    "\n",
    "# Definição do circuito\n",
    "@qml.qnode(dev)\n",
    "def hadamard_circuit():\n",
    "    # Aplica a porta Hadamard no qubit 0\n",
    "    #qml.Hadamard(wires=0)\n",
    "    qml.PauliX(0)\n",
    "    # Mede o qubit na base Z\n",
    "    return qml.sample(qml.PauliY(0))\n",
    "\n",
    "# Executa o circuito\n",
    "results = hadamard_circuit()\n",
    "\n",
    "# Exibe os resultados\n",
    "print(\"Resultados das medições:\", results)\n",
    "print(\"Proporção de +1:\", np.sum(results == 1) / len(results))\n",
    "print(\"Proporção de -1:\", np.sum(results == -1) / len(results))\n"
   ]
  },
  {
   "cell_type": "markdown",
   "id": "5389355e-0f33-4d0c-a8dd-2cb79d84e924",
   "metadata": {},
   "source": [
    "# Método convencional"
   ]
  },
  {
   "cell_type": "markdown",
   "id": "8b790845-d82d-426a-9aa4-97290f5eb763",
   "metadata": {},
   "source": [
    "## Inicio da implementação "
   ]
  },
  {
   "cell_type": "code",
   "execution_count": 5,
   "id": "98eecc37-a600-461c-878d-7320d5c26f7c",
   "metadata": {},
   "outputs": [],
   "source": [
    "qubits = 8  # the number of qubits on which the unitaries act\n",
    "n_shots = 100  # the number of times we can use each unitary\n",
    "circuits=30"
   ]
  },
  {
   "cell_type": "markdown",
   "id": "e1af917f-199b-451d-aa6e-7e9ecfc10237",
   "metadata": {},
   "source": [
    "## Função para gerar circuitos"
   ]
  },
  {
   "cell_type": "code",
   "execution_count": 6,
   "id": "f99bc207-d4ae-45a8-bd19-ae5382b46419",
   "metadata": {},
   "outputs": [],
   "source": [
    "np.random.seed(234087)\n",
    "\n",
    "layers, gates = 10, 10  # the number of layers and gates used in RandomLayers\n",
    "\n",
    "\n",
    "def generate_circuit(shots):\n",
    "    \"\"\"\n",
    "    generate a random circuit that returns a number of measuement samples\n",
    "    given by shots\n",
    "    \"\"\"\n",
    "    dev = qml.device(\"lightning.qubit\", wires=qubits, shots=shots)\n",
    "\n",
    "    @qml.qnode(dev)\n",
    "    def circuit(ts=False):\n",
    "\n",
    "        if ts == True:\n",
    "            ops = [qml.RY]  # time-symmetric unitaries\n",
    "        else:\n",
    "            ops = [qml.RX, qml.RY, qml.RZ]  # general unitaries\n",
    "\n",
    "        weights = np.random.rand(layers, gates) * np.pi\n",
    "        RandomLayers(weights, wires=range(qubits), rotations=ops, seed=np.random.randint(0, 10000))\n",
    "\n",
    "        return [qml.sample(op=qml.PauliY(q)) for q in range(qubits)]\n",
    "\n",
    "    return circuit"
   ]
  },
  {
   "cell_type": "markdown",
   "id": "353bac32-88e0-486c-8663-fcb7c5c03f7c",
   "metadata": {},
   "source": [
    "## Teste"
   ]
  },
  {
   "cell_type": "code",
   "execution_count": 7,
   "id": "9f847ca7-0c2f-4b8f-ace3-912f14c3b96b",
   "metadata": {},
   "outputs": [
    {
     "name": "stdout",
     "output_type": "stream",
     "text": [
      "[[-1. -1.  1.]\n",
      " [-1.  1. -1.]\n",
      " [-1. -1.  1.]\n",
      " [-1. -1.  1.]\n",
      " [ 1. -1.  1.]\n",
      " [-1.  1.  1.]\n",
      " [ 1. -1.  1.]\n",
      " [-1.  1. -1.]]\n",
      "\n",
      "\n",
      "[[ 1.  1.  1.]\n",
      " [-1.  1. -1.]\n",
      " [-1. -1.  1.]\n",
      " [-1.  1. -1.]\n",
      " [ 1.  1. -1.]\n",
      " [-1. -1.  1.]\n",
      " [-1.  1. -1.]\n",
      " [ 1.  1. -1.]]\n"
     ]
    }
   ],
   "source": [
    "# the measurement outcomes for the first 3 shots\n",
    "circuit = generate_circuit(n_shots)\n",
    "print(np.array(circuit(ts=True))[:, 0:3])\n",
    "print(\"\\n\")\n",
    "print(np.array(circuit(ts=False))[:, 0:3])"
   ]
  },
  {
   "cell_type": "markdown",
   "id": "1622f17c-45a8-43c2-a8ab-1789cde16aba",
   "metadata": {},
   "source": [
    "## Gerando os operadores T-Simétricos"
   ]
  },
  {
   "cell_type": "code",
   "execution_count": 8,
   "id": "360676c2-0220-4363-a570-f081ad701af4",
   "metadata": {},
   "outputs": [],
   "source": [
    "def generate_circuits(circuits, shots):\n",
    "    raw_data = []\n",
    "    \n",
    "    for ts in [True, False]:\n",
    "        for __ in range(circuits):\n",
    "            circuit = generate_circuit(n_shots)\n",
    "            raw_data.append(circuit(ts=ts))\n",
    "    return raw_data\n",
    "\n",
    "raw_data = generate_circuits(circuits, n_shots)"
   ]
  },
  {
   "cell_type": "markdown",
   "id": "f9a7e7dd-dc64-4da8-b797-0ad78f42b0b6",
   "metadata": {},
   "source": [
    "## Visualização"
   ]
  },
  {
   "cell_type": "code",
   "execution_count": 9,
   "id": "06d3f830-63ca-4ca8-b3a2-e98582831611",
   "metadata": {},
   "outputs": [
    {
     "name": "stdout",
     "output_type": "stream",
     "text": [
      "[array([ 1., -1.,  1.,  1.,  1.,  1.,  1.,  1., -1.,  1., -1., -1., -1.,\n",
      "       -1.,  1.,  1.,  1.,  1., -1., -1.,  1., -1.,  1., -1., -1., -1.,\n",
      "        1.,  1.,  1.,  1., -1.,  1., -1.,  1., -1., -1.,  1.,  1., -1.,\n",
      "        1., -1.,  1.,  1.,  1., -1.,  1.,  1., -1.,  1.,  1., -1., -1.,\n",
      "       -1.,  1., -1., -1.,  1.,  1., -1., -1.,  1., -1., -1., -1., -1.,\n",
      "       -1.,  1.,  1., -1.,  1., -1.,  1., -1.,  1., -1., -1., -1., -1.,\n",
      "        1., -1.,  1.,  1.,  1., -1., -1., -1.,  1.,  1., -1., -1., -1.,\n",
      "        1., -1.,  1., -1.,  1.,  1.,  1.,  1., -1.]), array([ 1., -1., -1.,  1., -1.,  1.,  1.,  1., -1., -1.,  1., -1., -1.,\n",
      "       -1.,  1., -1.,  1.,  1., -1., -1.,  1.,  1.,  1., -1.,  1., -1.,\n",
      "        1.,  1., -1., -1., -1.,  1., -1.,  1., -1.,  1.,  1.,  1.,  1.,\n",
      "        1.,  1.,  1.,  1.,  1., -1.,  1., -1., -1.,  1.,  1., -1., -1.,\n",
      "        1., -1., -1.,  1., -1., -1.,  1., -1.,  1.,  1.,  1.,  1.,  1.,\n",
      "       -1., -1., -1., -1.,  1., -1.,  1., -1., -1.,  1.,  1.,  1.,  1.,\n",
      "       -1.,  1.,  1.,  1.,  1., -1.,  1., -1., -1.,  1., -1., -1.,  1.,\n",
      "       -1.,  1.,  1., -1., -1.,  1.,  1.,  1., -1.]), array([ 1.,  1.,  1., -1.,  1.,  1.,  1., -1., -1., -1., -1.,  1.,  1.,\n",
      "        1., -1., -1.,  1., -1.,  1.,  1., -1.,  1., -1., -1., -1., -1.,\n",
      "       -1.,  1.,  1.,  1.,  1., -1., -1., -1.,  1., -1., -1., -1., -1.,\n",
      "       -1.,  1., -1., -1., -1.,  1.,  1.,  1.,  1.,  1., -1., -1., -1.,\n",
      "        1.,  1., -1., -1.,  1.,  1.,  1., -1., -1., -1.,  1.,  1.,  1.,\n",
      "        1.,  1., -1., -1., -1., -1., -1., -1., -1.,  1.,  1., -1.,  1.,\n",
      "        1., -1., -1.,  1.,  1.,  1., -1., -1.,  1., -1., -1.,  1., -1.,\n",
      "        1.,  1.,  1., -1.,  1.,  1.,  1., -1.,  1.]), array([-1.,  1., -1.,  1., -1., -1., -1., -1.,  1., -1.,  1., -1., -1.,\n",
      "        1., -1.,  1., -1.,  1.,  1., -1.,  1.,  1., -1.,  1.,  1., -1.,\n",
      "       -1., -1., -1., -1., -1., -1.,  1.,  1.,  1.,  1., -1.,  1.,  1.,\n",
      "       -1.,  1., -1.,  1., -1., -1.,  1., -1.,  1., -1., -1., -1., -1.,\n",
      "        1.,  1.,  1.,  1.,  1., -1., -1., -1., -1.,  1., -1., -1., -1.,\n",
      "        1., -1., -1.,  1., -1., -1., -1.,  1.,  1., -1., -1.,  1., -1.,\n",
      "       -1.,  1., -1., -1.,  1.,  1.,  1., -1., -1.,  1.,  1., -1.,  1.,\n",
      "        1.,  1.,  1., -1., -1., -1., -1.,  1.,  1.]), array([ 1.,  1.,  1.,  1., -1.,  1.,  1.,  1.,  1.,  1., -1.,  1.,  1.,\n",
      "        1., -1.,  1., -1.,  1., -1., -1.,  1.,  1., -1.,  1., -1., -1.,\n",
      "        1., -1.,  1.,  1., -1.,  1.,  1.,  1., -1., -1., -1.,  1., -1.,\n",
      "        1., -1.,  1., -1., -1., -1., -1.,  1., -1.,  1.,  1.,  1., -1.,\n",
      "        1.,  1.,  1.,  1.,  1., -1.,  1.,  1., -1., -1.,  1.,  1., -1.,\n",
      "       -1.,  1., -1.,  1., -1., -1., -1.,  1., -1., -1.,  1.,  1.,  1.,\n",
      "        1., -1., -1.,  1.,  1.,  1.,  1.,  1.,  1., -1.,  1.,  1., -1.,\n",
      "       -1.,  1., -1., -1.,  1.,  1.,  1., -1.,  1.]), array([-1., -1.,  1., -1., -1.,  1.,  1.,  1., -1.,  1.,  1., -1., -1.,\n",
      "        1., -1., -1.,  1.,  1., -1.,  1.,  1.,  1., -1., -1., -1.,  1.,\n",
      "       -1.,  1., -1.,  1.,  1., -1., -1., -1., -1.,  1., -1.,  1.,  1.,\n",
      "        1.,  1., -1., -1.,  1.,  1.,  1., -1.,  1.,  1.,  1., -1., -1.,\n",
      "       -1., -1.,  1., -1., -1., -1.,  1.,  1.,  1., -1.,  1., -1.,  1.,\n",
      "        1.,  1., -1., -1.,  1.,  1., -1.,  1.,  1.,  1., -1., -1., -1.,\n",
      "        1.,  1., -1., -1., -1.,  1.,  1., -1.,  1., -1.,  1.,  1.,  1.,\n",
      "        1.,  1.,  1., -1., -1.,  1.,  1.,  1.,  1.]), array([-1., -1.,  1., -1.,  1., -1.,  1., -1., -1., -1.,  1.,  1., -1.,\n",
      "       -1.,  1., -1., -1.,  1., -1.,  1.,  1., -1.,  1.,  1., -1., -1.,\n",
      "        1., -1., -1., -1., -1.,  1., -1., -1.,  1., -1.,  1.,  1.,  1.,\n",
      "        1.,  1.,  1., -1., -1.,  1., -1., -1., -1., -1., -1., -1., -1.,\n",
      "        1.,  1.,  1.,  1.,  1., -1., -1., -1.,  1., -1., -1., -1., -1.,\n",
      "       -1.,  1., -1., -1.,  1., -1.,  1., -1., -1., -1.,  1.,  1.,  1.,\n",
      "        1.,  1.,  1., -1.,  1.,  1., -1.,  1.,  1., -1., -1., -1.,  1.,\n",
      "       -1., -1., -1., -1.,  1., -1.,  1.,  1.,  1.]), array([ 1., -1., -1.,  1.,  1., -1.,  1., -1.,  1., -1.,  1.,  1., -1.,\n",
      "       -1., -1., -1.,  1.,  1.,  1.,  1.,  1.,  1., -1.,  1.,  1., -1.,\n",
      "        1.,  1., -1., -1.,  1., -1.,  1.,  1., -1., -1., -1.,  1., -1.,\n",
      "       -1., -1.,  1., -1.,  1., -1., -1., -1., -1., -1.,  1., -1., -1.,\n",
      "        1.,  1.,  1.,  1.,  1., -1.,  1., -1.,  1., -1.,  1.,  1.,  1.,\n",
      "       -1., -1.,  1.,  1.,  1.,  1., -1., -1., -1.,  1.,  1., -1.,  1.,\n",
      "        1.,  1., -1., -1., -1., -1., -1.,  1.,  1., -1., -1., -1.,  1.,\n",
      "        1.,  1., -1.,  1.,  1., -1.,  1., -1., -1.])]\n"
     ]
    }
   ],
   "source": [
    "print(raw_data[0])"
   ]
  },
  {
   "cell_type": "markdown",
   "id": "8703820e-bd18-4dba-a5f0-af182b9097c9",
   "metadata": {},
   "source": [
    "## Pré-processamento "
   ]
  },
  {
   "cell_type": "code",
   "execution_count": 10,
   "id": "55b345b9-c70a-4b19-a977-096baa9d80a2",
   "metadata": {},
   "outputs": [],
   "source": [
    "def process_data(raw_data):\n",
    "    \"convert raw data to vectors of means and variances of each qubit\"\n",
    "\n",
    "    raw_data = np.array(raw_data)\n",
    "    nc = len(raw_data)  # the number of circuits used to generate the data\n",
    "    nq = len(raw_data[0])  # the number of qubits in each circuit\n",
    "    new_data = np.zeros([nc, 2 * nq])\n",
    "\n",
    "    for k, outcomes in enumerate(raw_data):\n",
    "        means = [np.mean(outcomes[q, :]) for q in range(nq)]\n",
    "        variances = [np.var(outcomes[q, :]) for q in range(nq)]\n",
    "        new_data[k] = np.array(means + variances)\n",
    "\n",
    "    return new_data\n",
    "\n",
    "\n",
    "data = process_data(raw_data)"
   ]
  },
  {
   "cell_type": "markdown",
   "id": "3b1c1ed3-1e49-4bb2-8a29-4a779202105a",
   "metadata": {},
   "source": [
    "## Visualização"
   ]
  },
  {
   "cell_type": "code",
   "execution_count": 11,
   "id": "4aaf6254-949d-4661-9690-ace5622b0951",
   "metadata": {},
   "outputs": [
    {
     "name": "stdout",
     "output_type": "stream",
     "text": [
      "[ 0.02    0.1     0.     -0.1     0.18    0.1    -0.1     0.02    0.9996\n",
      "  0.99    1.      0.99    0.9676  0.99    0.99    0.9996]\n"
     ]
    }
   ],
   "source": [
    "print(data[0])"
   ]
  },
  {
   "cell_type": "markdown",
   "id": "3d61f6ed-457f-4b75-8774-bbe59b064861",
   "metadata": {},
   "source": [
    "## Preparando e rodando o classificador"
   ]
  },
  {
   "cell_type": "code",
   "execution_count": 12,
   "id": "084d98c1-4fd6-4366-a99d-f5cf41906bf4",
   "metadata": {},
   "outputs": [],
   "source": [
    "kernel_pca = KernelPCA(\n",
    "        n_components=None, kernel=\"rbf\", gamma=None, fit_inverse_transform=True, alpha=0.1\n",
    "    )\n",
    "\n",
    "def runClass(data):\n",
    "    # rescale the data so it has unit standard deviation and zero mean.\n",
    "    scaler = preprocessing.StandardScaler().fit(data)\n",
    "    data = scaler.transform(data)\n",
    "    # try to cluster the data\n",
    "    fit = kernel_pca.fit(data).transform(data)\n",
    "\n",
    "    return fit\n",
    "\n",
    "fit = runClass(data)"
   ]
  },
  {
   "cell_type": "code",
   "execution_count": 13,
   "id": "491dcbb6-cdbf-4328-a1b6-1a13a411cc75",
   "metadata": {},
   "outputs": [
    {
     "data": {
      "image/png": "[encoded data removed]",
      "text/plain": [
       "<Figure size 640x480 with 1 Axes>"
      ]
     },
     "metadata": {},
     "output_type": "display_data"
    }
   ],
   "source": [
    "# make a colour map for the points\n",
    "c = np.array([0 for __ in range(circuits)] + [1 for __ in range(circuits)])\n",
    "\n",
    "plt.scatter(fit[:, 0], fit[:, 1], c=c)\n",
    "plt.show()"
   ]
  },
  {
   "cell_type": "markdown",
   "id": "b7e9b162-19e5-48cc-8d9c-a412b843922a",
   "metadata": {},
   "source": [
    "## Aumentando a quantidade de shots para melhorar a precisão"
   ]
  },
  {
   "cell_type": "code",
   "execution_count": 14,
   "id": "dfbe10b8-6652-4fa3-a087-4a1aa1c38097",
   "metadata": {},
   "outputs": [],
   "source": [
    "n_shots = 10000  # 100 x more shots\n",
    "raw_data = generate_circuits(circuits, n_shots)"
   ]
  },
  {
   "cell_type": "markdown",
   "id": "4955a60e-1e32-4977-b15b-16b0edb4ba14",
   "metadata": {},
   "source": [
    "## Visualização"
   ]
  },
  {
   "cell_type": "code",
   "execution_count": 15,
   "id": "3a7e6352-0068-48ea-98ad-e1f8de616b49",
   "metadata": {},
   "outputs": [
    {
     "name": "stdout",
     "output_type": "stream",
     "text": [
      "[array([-1., -1., -1., ...,  1.,  1.,  1.]), array([ 1.,  1.,  1., ..., -1.,  1.,  1.]), array([-1., -1., -1., ...,  1.,  1., -1.]), array([-1.,  1.,  1., ...,  1.,  1., -1.]), array([-1.,  1., -1., ...,  1.,  1.,  1.]), array([ 1., -1., -1., ...,  1.,  1.,  1.]), array([-1.,  1., -1., ..., -1.,  1., -1.]), array([ 1.,  1., -1., ..., -1., -1.,  1.])]\n"
     ]
    }
   ],
   "source": [
    "print(raw_data[0])"
   ]
  },
  {
   "cell_type": "code",
   "execution_count": 16,
   "id": "e0a8dae1-5419-47de-888f-e0d0731a050a",
   "metadata": {},
   "outputs": [],
   "source": [
    "data = process_data(raw_data)"
   ]
  },
  {
   "cell_type": "code",
   "execution_count": 17,
   "id": "aabed4db-9ae8-4be2-916c-c7d1114c6db9",
   "metadata": {},
   "outputs": [
    {
     "name": "stdout",
     "output_type": "stream",
     "text": [
      "[-0.0036     -0.0086     -0.003      -0.0134      0.0018      0.0044\n",
      "  0.0148      0.0122      0.99998704  0.99992604  0.999991    0.99982044\n",
      "  0.99999676  0.99998064  0.99978096  0.99985116]\n"
     ]
    }
   ],
   "source": [
    "print(data[0])"
   ]
  },
  {
   "cell_type": "code",
   "execution_count": 18,
   "id": "3ebbe0dc-e0c9-4538-88b9-88ac4cc89bce",
   "metadata": {},
   "outputs": [
    {
     "data": {
      "image/png": "[encoded data removed]",
      "text/plain": [
       "<Figure size 640x480 with 1 Axes>"
      ]
     },
     "metadata": {},
     "output_type": "display_data"
    }
   ],
   "source": [
    "fit = runClass(data)\n",
    "\n",
    "plt.scatter(fit[:, 0], fit[:, 1], c=c)\n",
    "plt.show()"
   ]
  },
  {
   "cell_type": "markdown",
   "id": "9b5afc02-126f-4051-be8f-9ce2a331f9db",
   "metadata": {},
   "source": [
    "# Método melhorado com memória quântica"
   ]
  },
  {
   "cell_type": "markdown",
   "id": "3377d077-18d4-4de7-8249-e964f3dcdfbe",
   "metadata": {},
   "source": [
    "## Início da implementação"
   ]
  },
  {
   "cell_type": "code",
   "execution_count": 19,
   "id": "3b414337-0b8b-4e3c-a41e-9e4da576afa9",
   "metadata": {},
   "outputs": [],
   "source": [
    "n_shots = 50\n",
    "qubits = 8"
   ]
  },
  {
   "cell_type": "markdown",
   "id": "0f632a0b-7868-4312-a3c3-2c3089bddf11",
   "metadata": {},
   "source": [
    "## Função para gerar circuitos com memória quântica"
   ]
  },
  {
   "cell_type": "code",
   "execution_count": 20,
   "id": "4c58c81f-9cdb-4488-b76c-0d33db2a5ca0",
   "metadata": {},
   "outputs": [],
   "source": [
    "def CNOT_sequence(control_wires, target_wires):\n",
    "    \"\"\"Apply CNOTs in sequence using the provided control and target wires\"\"\"\n",
    "    for c_wire, t_wire in zip(control_wires, target_wires):\n",
    "        qml.CNOT([c_wire, t_wire])\n",
    "\n",
    "def generate_ecircuit(n_shots):\n",
    "\n",
    "    dev = qml.device(\"lightning.qubit\", wires=qubits * 2, shots=n_shots)\n",
    "    \n",
    "    @qml.qnode(dev)\n",
    "    def enhanced_circuit(ts=False):\n",
    "        \"implement the enhanced circuit, using a random unitary\"\n",
    "    \n",
    "        if ts == True:\n",
    "            ops = [qml.RY]\n",
    "        else:\n",
    "            ops = [qml.RX, qml.RY, qml.RZ]\n",
    "    \n",
    "        weights = np.random.rand(layers, n_shots) * np.pi\n",
    "        seed = np.random.randint(0, 10000)\n",
    "    \n",
    "        for q in range(qubits):\n",
    "            qml.Hadamard(wires=q)\n",
    "    \n",
    "        CNOT_sequence(control_wires=range(qubits), target_wires=range(qubits, 2 * qubits))\n",
    "        RandomLayers(weights, wires=range(0, qubits), rotations=ops, seed=seed)\n",
    "        RandomLayers(weights, wires=range(qubits, 2 * qubits), rotations=ops, seed=seed)\n",
    "        CNOT_sequence(control_wires=range(qubits), target_wires=range(qubits, 2 * qubits))\n",
    "    \n",
    "        for q in range(qubits):\n",
    "            qml.Hadamard(wires=q)\n",
    "    \n",
    "        return [qml.sample(op=qml.PauliZ(q)) for q in range(2 * qubits)]\n",
    "        \n",
    "    return enhanced_circuit\n",
    "        "
   ]
  },
  {
   "cell_type": "markdown",
   "id": "70d28a6d-190a-4023-a0bf-82259b6171a6",
   "metadata": {},
   "source": [
    "## Gerando circuitos"
   ]
  },
  {
   "cell_type": "code",
   "execution_count": 21,
   "id": "4dcacf92-aa12-4b45-8b82-4df3df8532a9",
   "metadata": {},
   "outputs": [],
   "source": [
    "def generate_ecircuits(circuits, n_shots):\n",
    "    raw_data = []\n",
    "    \n",
    "    for ts in [True, False]:\n",
    "        for __ in range(circuits):\n",
    "            enhanced_circuit = generate_ecircuit(n_shots)\n",
    "            raw_data.append(enhanced_circuit(ts))\n",
    "\n",
    "    return raw_data\n",
    "\n",
    "raw_data = generate_ecircuits(circuits, n_shots)"
   ]
  },
  {
   "cell_type": "markdown",
   "id": "f013f8cc-b212-42af-a63b-16614245a96b",
   "metadata": {},
   "source": [
    "## Visualização"
   ]
  },
  {
   "cell_type": "code",
   "execution_count": 22,
   "id": "b879168a-5861-4a98-939a-228d97eb9101",
   "metadata": {},
   "outputs": [
    {
     "name": "stdout",
     "output_type": "stream",
     "text": [
      "[array([1., 1., 1., 1., 1., 1., 1., 1., 1., 1., 1., 1., 1., 1., 1., 1., 1.,\n",
      "       1., 1., 1., 1., 1., 1., 1., 1., 1., 1., 1., 1., 1., 1., 1., 1., 1.,\n",
      "       1., 1., 1., 1., 1., 1., 1., 1., 1., 1., 1., 1., 1., 1., 1., 1.]), array([1., 1., 1., 1., 1., 1., 1., 1., 1., 1., 1., 1., 1., 1., 1., 1., 1.,\n",
      "       1., 1., 1., 1., 1., 1., 1., 1., 1., 1., 1., 1., 1., 1., 1., 1., 1.,\n",
      "       1., 1., 1., 1., 1., 1., 1., 1., 1., 1., 1., 1., 1., 1., 1., 1.]), array([1., 1., 1., 1., 1., 1., 1., 1., 1., 1., 1., 1., 1., 1., 1., 1., 1.,\n",
      "       1., 1., 1., 1., 1., 1., 1., 1., 1., 1., 1., 1., 1., 1., 1., 1., 1.,\n",
      "       1., 1., 1., 1., 1., 1., 1., 1., 1., 1., 1., 1., 1., 1., 1., 1.]), array([1., 1., 1., 1., 1., 1., 1., 1., 1., 1., 1., 1., 1., 1., 1., 1., 1.,\n",
      "       1., 1., 1., 1., 1., 1., 1., 1., 1., 1., 1., 1., 1., 1., 1., 1., 1.,\n",
      "       1., 1., 1., 1., 1., 1., 1., 1., 1., 1., 1., 1., 1., 1., 1., 1.]), array([1., 1., 1., 1., 1., 1., 1., 1., 1., 1., 1., 1., 1., 1., 1., 1., 1.,\n",
      "       1., 1., 1., 1., 1., 1., 1., 1., 1., 1., 1., 1., 1., 1., 1., 1., 1.,\n",
      "       1., 1., 1., 1., 1., 1., 1., 1., 1., 1., 1., 1., 1., 1., 1., 1.]), array([1., 1., 1., 1., 1., 1., 1., 1., 1., 1., 1., 1., 1., 1., 1., 1., 1.,\n",
      "       1., 1., 1., 1., 1., 1., 1., 1., 1., 1., 1., 1., 1., 1., 1., 1., 1.,\n",
      "       1., 1., 1., 1., 1., 1., 1., 1., 1., 1., 1., 1., 1., 1., 1., 1.]), array([1., 1., 1., 1., 1., 1., 1., 1., 1., 1., 1., 1., 1., 1., 1., 1., 1.,\n",
      "       1., 1., 1., 1., 1., 1., 1., 1., 1., 1., 1., 1., 1., 1., 1., 1., 1.,\n",
      "       1., 1., 1., 1., 1., 1., 1., 1., 1., 1., 1., 1., 1., 1., 1., 1.]), array([1., 1., 1., 1., 1., 1., 1., 1., 1., 1., 1., 1., 1., 1., 1., 1., 1.,\n",
      "       1., 1., 1., 1., 1., 1., 1., 1., 1., 1., 1., 1., 1., 1., 1., 1., 1.,\n",
      "       1., 1., 1., 1., 1., 1., 1., 1., 1., 1., 1., 1., 1., 1., 1., 1.]), array([1., 1., 1., 1., 1., 1., 1., 1., 1., 1., 1., 1., 1., 1., 1., 1., 1.,\n",
      "       1., 1., 1., 1., 1., 1., 1., 1., 1., 1., 1., 1., 1., 1., 1., 1., 1.,\n",
      "       1., 1., 1., 1., 1., 1., 1., 1., 1., 1., 1., 1., 1., 1., 1., 1.]), array([1., 1., 1., 1., 1., 1., 1., 1., 1., 1., 1., 1., 1., 1., 1., 1., 1.,\n",
      "       1., 1., 1., 1., 1., 1., 1., 1., 1., 1., 1., 1., 1., 1., 1., 1., 1.,\n",
      "       1., 1., 1., 1., 1., 1., 1., 1., 1., 1., 1., 1., 1., 1., 1., 1.]), array([1., 1., 1., 1., 1., 1., 1., 1., 1., 1., 1., 1., 1., 1., 1., 1., 1.,\n",
      "       1., 1., 1., 1., 1., 1., 1., 1., 1., 1., 1., 1., 1., 1., 1., 1., 1.,\n",
      "       1., 1., 1., 1., 1., 1., 1., 1., 1., 1., 1., 1., 1., 1., 1., 1.]), array([1., 1., 1., 1., 1., 1., 1., 1., 1., 1., 1., 1., 1., 1., 1., 1., 1.,\n",
      "       1., 1., 1., 1., 1., 1., 1., 1., 1., 1., 1., 1., 1., 1., 1., 1., 1.,\n",
      "       1., 1., 1., 1., 1., 1., 1., 1., 1., 1., 1., 1., 1., 1., 1., 1.]), array([1., 1., 1., 1., 1., 1., 1., 1., 1., 1., 1., 1., 1., 1., 1., 1., 1.,\n",
      "       1., 1., 1., 1., 1., 1., 1., 1., 1., 1., 1., 1., 1., 1., 1., 1., 1.,\n",
      "       1., 1., 1., 1., 1., 1., 1., 1., 1., 1., 1., 1., 1., 1., 1., 1.]), array([1., 1., 1., 1., 1., 1., 1., 1., 1., 1., 1., 1., 1., 1., 1., 1., 1.,\n",
      "       1., 1., 1., 1., 1., 1., 1., 1., 1., 1., 1., 1., 1., 1., 1., 1., 1.,\n",
      "       1., 1., 1., 1., 1., 1., 1., 1., 1., 1., 1., 1., 1., 1., 1., 1.]), array([1., 1., 1., 1., 1., 1., 1., 1., 1., 1., 1., 1., 1., 1., 1., 1., 1.,\n",
      "       1., 1., 1., 1., 1., 1., 1., 1., 1., 1., 1., 1., 1., 1., 1., 1., 1.,\n",
      "       1., 1., 1., 1., 1., 1., 1., 1., 1., 1., 1., 1., 1., 1., 1., 1.]), array([1., 1., 1., 1., 1., 1., 1., 1., 1., 1., 1., 1., 1., 1., 1., 1., 1.,\n",
      "       1., 1., 1., 1., 1., 1., 1., 1., 1., 1., 1., 1., 1., 1., 1., 1., 1.,\n",
      "       1., 1., 1., 1., 1., 1., 1., 1., 1., 1., 1., 1., 1., 1., 1., 1.])]\n"
     ]
    }
   ],
   "source": [
    "print(raw_data[0])"
   ]
  },
  {
   "cell_type": "markdown",
   "id": "9b82b1ff-f0c3-4e79-b679-ea5df760d67a",
   "metadata": {},
   "source": [
    "## Pre-Processamento"
   ]
  },
  {
   "cell_type": "code",
   "execution_count": 23,
   "id": "b076ac42-c4fa-4cfa-8674-80dbc6aa12ac",
   "metadata": {},
   "outputs": [
    {
     "name": "stdout",
     "output_type": "stream",
     "text": [
      "[-0.04    0.08    0.32    0.4    -0.12    0.08    0.12   -0.2    -0.12\n",
      "  0.      0.24   -0.2    -0.12   -0.04   -0.16   -0.24    0.9984  0.9936\n",
      "  0.8976  0.84    0.9856  0.9936  0.9856  0.96    0.9856  1.      0.9424\n",
      "  0.96    0.9856  0.9984  0.9744  0.9424]\n"
     ]
    }
   ],
   "source": [
    "data = process_data(raw_data)\n",
    "print(data[40])"
   ]
  },
  {
   "cell_type": "markdown",
   "id": "7de0d2d0-0e28-4f55-b033-9148f07ee977",
   "metadata": {},
   "source": [
    "## Rodando o classificador"
   ]
  },
  {
   "cell_type": "code",
   "execution_count": 24,
   "id": "0466c71d-ce79-4a94-8ba4-1803a912a408",
   "metadata": {},
   "outputs": [
    {
     "data": {
      "image/png": "[encoded data removed]",
      "text/plain": [
       "<Figure size 640x480 with 1 Axes>"
      ]
     },
     "metadata": {},
     "output_type": "display_data"
    }
   ],
   "source": [
    "kernel_pca = KernelPCA(\n",
    "    n_components=None, kernel=\"rbf\", gamma=None, fit_inverse_transform=True, alpha=0.1\n",
    ")\n",
    "\n",
    "scaler = preprocessing.StandardScaler().fit(data)\n",
    "data = scaler.transform(data)\n",
    "\n",
    "fit = kernel_pca.fit(data).transform(data)\n",
    "\n",
    "c = np.array([0 for __ in range(circuits)] + [1 for __ in range(circuits)])\n",
    "plt.scatter(fit[:, 0], fit[:, 1], c=c)\n",
    "plt.show()"
   ]
  },
  {
   "cell_type": "markdown",
   "id": "6ff151d3-b885-4702-9547-863d3c416d83",
   "metadata": {},
   "source": [
    "# Adicionando ruído"
   ]
  },
  {
   "cell_type": "code",
   "execution_count": 25,
   "id": "a52e8fb0-10fb-4272-ba0d-b91f77033892",
   "metadata": {},
   "outputs": [
    {
     "ename": "WireError",
     "evalue": "Cannot run circuit(s) on lightning.qubit as they contain wires not found on the device: {1, 2, 3, 4, 5, 6, 7, 8, 9, 10, 11, 12, 13, 14, 15}",
     "output_type": "error",
     "traceback": [
      "\u001b[0;31m---------------------------------------------------------------------------\u001b[0m",
      "\u001b[0;31mWireError\u001b[0m                                 Traceback (most recent call last)",
      "Cell \u001b[0;32mIn[25], line 37\u001b[0m\n\u001b[1;32m     35\u001b[0m \u001b[38;5;28;01mfor\u001b[39;00m ts \u001b[38;5;129;01min\u001b[39;00m [\u001b[38;5;28;01mTrue\u001b[39;00m, \u001b[38;5;28;01mFalse\u001b[39;00m]:\n\u001b[1;32m     36\u001b[0m     \u001b[38;5;28;01mfor\u001b[39;00m __ \u001b[38;5;129;01min\u001b[39;00m \u001b[38;5;28mrange\u001b[39m(circuits):\n\u001b[0;32m---> 37\u001b[0m         raw_data\u001b[38;5;241m.\u001b[39mappend(\u001b[43menhanced_circuit\u001b[49m\u001b[43m(\u001b[49m\u001b[43mts\u001b[49m\u001b[43m)\u001b[49m)\n\u001b[1;32m     39\u001b[0m data \u001b[38;5;241m=\u001b[39m process_data(raw_data)\n\u001b[1;32m     41\u001b[0m kernel_pca \u001b[38;5;241m=\u001b[39m KernelPCA(\n\u001b[1;32m     42\u001b[0m     n_components\u001b[38;5;241m=\u001b[39m\u001b[38;5;28;01mNone\u001b[39;00m, kernel\u001b[38;5;241m=\u001b[39m\u001b[38;5;124m\"\u001b[39m\u001b[38;5;124mrbf\u001b[39m\u001b[38;5;124m\"\u001b[39m, gamma\u001b[38;5;241m=\u001b[39m\u001b[38;5;28;01mNone\u001b[39;00m, fit_inverse_transform\u001b[38;5;241m=\u001b[39m\u001b[38;5;28;01mTrue\u001b[39;00m, alpha\u001b[38;5;241m=\u001b[39m\u001b[38;5;241m0.1\u001b[39m\n\u001b[1;32m     43\u001b[0m )\n",
      "File \u001b[0;32m~/qiskit/lib/python3.13/site-packages/pennylane/workflow/qnode.py:905\u001b[0m, in \u001b[0;36mQNode.__call__\u001b[0;34m(self, *args, **kwargs)\u001b[0m\n\u001b[1;32m    903\u001b[0m \u001b[38;5;28;01mif\u001b[39;00m qml\u001b[38;5;241m.\u001b[39mcapture\u001b[38;5;241m.\u001b[39menabled():\n\u001b[1;32m    904\u001b[0m     \u001b[38;5;28;01mreturn\u001b[39;00m capture_qnode(\u001b[38;5;28mself\u001b[39m, \u001b[38;5;241m*\u001b[39margs, \u001b[38;5;241m*\u001b[39m\u001b[38;5;241m*\u001b[39mkwargs)\n\u001b[0;32m--> 905\u001b[0m \u001b[38;5;28;01mreturn\u001b[39;00m \u001b[38;5;28;43mself\u001b[39;49m\u001b[38;5;241;43m.\u001b[39;49m\u001b[43m_impl_call\u001b[49m\u001b[43m(\u001b[49m\u001b[38;5;241;43m*\u001b[39;49m\u001b[43margs\u001b[49m\u001b[43m,\u001b[49m\u001b[43m \u001b[49m\u001b[38;5;241;43m*\u001b[39;49m\u001b[38;5;241;43m*\u001b[39;49m\u001b[43mkwargs\u001b[49m\u001b[43m)\u001b[49m\n",
      "File \u001b[0;32m~/qiskit/lib/python3.13/site-packages/pennylane/workflow/qnode.py:881\u001b[0m, in \u001b[0;36mQNode._impl_call\u001b[0;34m(self, *args, **kwargs)\u001b[0m\n\u001b[1;32m    878\u001b[0m \u001b[38;5;66;03m# Calculate the classical jacobians if necessary\u001b[39;00m\n\u001b[1;32m    879\u001b[0m \u001b[38;5;28mself\u001b[39m\u001b[38;5;241m.\u001b[39m_transform_program\u001b[38;5;241m.\u001b[39mset_classical_component(\u001b[38;5;28mself\u001b[39m, args, kwargs)\n\u001b[0;32m--> 881\u001b[0m res \u001b[38;5;241m=\u001b[39m \u001b[43mqml\u001b[49m\u001b[38;5;241;43m.\u001b[39;49m\u001b[43mexecute\u001b[49m\u001b[43m(\u001b[49m\n\u001b[1;32m    882\u001b[0m \u001b[43m    \u001b[49m\u001b[43m(\u001b[49m\u001b[43mtape\u001b[49m\u001b[43m,\u001b[49m\u001b[43m)\u001b[49m\u001b[43m,\u001b[49m\n\u001b[1;32m    883\u001b[0m \u001b[43m    \u001b[49m\u001b[43mdevice\u001b[49m\u001b[38;5;241;43m=\u001b[39;49m\u001b[38;5;28;43mself\u001b[39;49m\u001b[38;5;241;43m.\u001b[39;49m\u001b[43mdevice\u001b[49m\u001b[43m,\u001b[49m\n\u001b[1;32m    884\u001b[0m \u001b[43m    \u001b[49m\u001b[43mdiff_method\u001b[49m\u001b[38;5;241;43m=\u001b[39;49m\u001b[38;5;28;43mself\u001b[39;49m\u001b[38;5;241;43m.\u001b[39;49m\u001b[43mdiff_method\u001b[49m\u001b[43m,\u001b[49m\n\u001b[1;32m    885\u001b[0m \u001b[43m    \u001b[49m\u001b[43minterface\u001b[49m\u001b[38;5;241;43m=\u001b[39;49m\u001b[43minterface\u001b[49m\u001b[43m,\u001b[49m\n\u001b[1;32m    886\u001b[0m \u001b[43m    \u001b[49m\u001b[43mtransform_program\u001b[49m\u001b[38;5;241;43m=\u001b[39;49m\u001b[38;5;28;43mself\u001b[39;49m\u001b[38;5;241;43m.\u001b[39;49m\u001b[43m_transform_program\u001b[49m\u001b[43m,\u001b[49m\n\u001b[1;32m    887\u001b[0m \u001b[43m    \u001b[49m\u001b[43mgradient_kwargs\u001b[49m\u001b[38;5;241;43m=\u001b[39;49m\u001b[38;5;28;43mself\u001b[39;49m\u001b[38;5;241;43m.\u001b[39;49m\u001b[43mgradient_kwargs\u001b[49m\u001b[43m,\u001b[49m\n\u001b[1;32m    888\u001b[0m \u001b[43m    \u001b[49m\u001b[38;5;241;43m*\u001b[39;49m\u001b[38;5;241;43m*\u001b[39;49m\u001b[38;5;28;43mself\u001b[39;49m\u001b[38;5;241;43m.\u001b[39;49m\u001b[43mexecute_kwargs\u001b[49m\u001b[43m,\u001b[49m\n\u001b[1;32m    889\u001b[0m \u001b[43m\u001b[49m\u001b[43m)\u001b[49m\n\u001b[1;32m    890\u001b[0m res \u001b[38;5;241m=\u001b[39m res[\u001b[38;5;241m0\u001b[39m]\n\u001b[1;32m    892\u001b[0m \u001b[38;5;66;03m# convert result to the interface in case the qfunc has no parameters\u001b[39;00m\n",
      "File \u001b[0;32m~/qiskit/lib/python3.13/site-packages/pennylane/workflow/execution.py:232\u001b[0m, in \u001b[0;36mexecute\u001b[0;34m(tapes, device, diff_method, interface, transform_program, inner_transform, config, grad_on_execution, gradient_kwargs, cache, cachesize, max_diff, device_vjp, mcm_config, gradient_fn)\u001b[0m\n\u001b[1;32m    229\u001b[0m \u001b[38;5;28;01mif\u001b[39;00m transform_program\u001b[38;5;241m.\u001b[39mis_informative:\n\u001b[1;32m    230\u001b[0m     \u001b[38;5;28;01mreturn\u001b[39;00m post_processing(tapes)\n\u001b[0;32m--> 232\u001b[0m results \u001b[38;5;241m=\u001b[39m \u001b[43mrun\u001b[49m\u001b[43m(\u001b[49m\u001b[43mtapes\u001b[49m\u001b[43m,\u001b[49m\u001b[43m \u001b[49m\u001b[43mdevice\u001b[49m\u001b[43m,\u001b[49m\u001b[43m \u001b[49m\u001b[43mconfig\u001b[49m\u001b[43m,\u001b[49m\u001b[43m \u001b[49m\u001b[43minner_transform\u001b[49m\u001b[43m)\u001b[49m\n\u001b[1;32m    233\u001b[0m \u001b[38;5;28;01mreturn\u001b[39;00m post_processing(results)\n",
      "File \u001b[0;32m~/qiskit/lib/python3.13/site-packages/pennylane/workflow/run.py:287\u001b[0m, in \u001b[0;36mrun\u001b[0;34m(tapes, device, config, inner_transform_program)\u001b[0m\n\u001b[1;32m    278\u001b[0m no_interface_boundary_required \u001b[38;5;241m=\u001b[39m (\n\u001b[1;32m    279\u001b[0m     config\u001b[38;5;241m.\u001b[39minterface \u001b[38;5;241m==\u001b[39m Interface\u001b[38;5;241m.\u001b[39mNUMPY\n\u001b[1;32m    280\u001b[0m     \u001b[38;5;129;01mor\u001b[39;00m config\u001b[38;5;241m.\u001b[39mgradient_method\n\u001b[0;32m   (...)\u001b[0m\n\u001b[1;32m    284\u001b[0m     }\n\u001b[1;32m    285\u001b[0m )\n\u001b[1;32m    286\u001b[0m \u001b[38;5;28;01mif\u001b[39;00m no_interface_boundary_required:\n\u001b[0;32m--> 287\u001b[0m     results \u001b[38;5;241m=\u001b[39m \u001b[43minner_execute\u001b[49m\u001b[43m(\u001b[49m\u001b[43mtapes\u001b[49m\u001b[43m)\u001b[49m\n\u001b[1;32m    288\u001b[0m     \u001b[38;5;28;01mreturn\u001b[39;00m results\n\u001b[1;32m    290\u001b[0m \u001b[38;5;66;03m# TODO: Prune once support for tf-autograph is dropped\u001b[39;00m\n",
      "File \u001b[0;32m~/qiskit/lib/python3.13/site-packages/pennylane/workflow/run.py:244\u001b[0m, in \u001b[0;36m_make_inner_execute.<locals>.inner_execute\u001b[0;34m(tapes)\u001b[0m\n\u001b[1;32m    235\u001b[0m \u001b[38;5;28;01mdef\u001b[39;00m\u001b[38;5;250m \u001b[39m\u001b[38;5;21minner_execute\u001b[39m(tapes: QuantumScriptBatch) \u001b[38;5;241m-\u001b[39m\u001b[38;5;241m>\u001b[39m ResultBatch:\n\u001b[1;32m    236\u001b[0m \u001b[38;5;250m    \u001b[39m\u001b[38;5;124;03m\"\"\"Execution that occurs within a ML framework boundary.\u001b[39;00m\n\u001b[1;32m    237\u001b[0m \n\u001b[1;32m    238\u001b[0m \u001b[38;5;124;03m    Closure Variables:\u001b[39;00m\n\u001b[0;32m   (...)\u001b[0m\n\u001b[1;32m    241\u001b[0m \u001b[38;5;124;03m        device (qml.devices.Device): a Pennylane device\u001b[39;00m\n\u001b[1;32m    242\u001b[0m \u001b[38;5;124;03m    \"\"\"\u001b[39;00m\n\u001b[0;32m--> 244\u001b[0m     transformed_tapes, transform_post_processing \u001b[38;5;241m=\u001b[39m \u001b[43minner_transform\u001b[49m\u001b[43m(\u001b[49m\u001b[43mtapes\u001b[49m\u001b[43m)\u001b[49m\n\u001b[1;32m    246\u001b[0m     \u001b[38;5;28;01mif\u001b[39;00m transformed_tapes:\n\u001b[1;32m    247\u001b[0m         results \u001b[38;5;241m=\u001b[39m device\u001b[38;5;241m.\u001b[39mexecute(transformed_tapes, execution_config\u001b[38;5;241m=\u001b[39mexecution_config)\n",
      "File \u001b[0;32m~/qiskit/lib/python3.13/site-packages/pennylane/transforms/core/transform_program.py:580\u001b[0m, in \u001b[0;36mTransformProgram.__call__\u001b[0;34m(self, tapes)\u001b[0m\n\u001b[1;32m    578\u001b[0m \u001b[38;5;28;01mif\u001b[39;00m argnums \u001b[38;5;129;01mis\u001b[39;00m \u001b[38;5;129;01mnot\u001b[39;00m \u001b[38;5;28;01mNone\u001b[39;00m:\n\u001b[1;32m    579\u001b[0m     tape\u001b[38;5;241m.\u001b[39mtrainable_params \u001b[38;5;241m=\u001b[39m argnums[j]\n\u001b[0;32m--> 580\u001b[0m new_tapes, fn \u001b[38;5;241m=\u001b[39m \u001b[43mtransform\u001b[49m\u001b[43m(\u001b[49m\u001b[43mtape\u001b[49m\u001b[43m,\u001b[49m\u001b[43m \u001b[49m\u001b[38;5;241;43m*\u001b[39;49m\u001b[43mtargs\u001b[49m\u001b[43m,\u001b[49m\u001b[43m \u001b[49m\u001b[38;5;241;43m*\u001b[39;49m\u001b[38;5;241;43m*\u001b[39;49m\u001b[43mtkwargs\u001b[49m\u001b[43m)\u001b[49m\n\u001b[1;32m    581\u001b[0m execution_tapes\u001b[38;5;241m.\u001b[39mextend(new_tapes)\n\u001b[1;32m    583\u001b[0m fns\u001b[38;5;241m.\u001b[39mappend(fn)\n",
      "File \u001b[0;32m~/qiskit/lib/python3.13/site-packages/pennylane/devices/preprocess.py:148\u001b[0m, in \u001b[0;36mvalidate_device_wires\u001b[0;34m(tape, wires, name)\u001b[0m\n\u001b[1;32m    142\u001b[0m     \u001b[38;5;28;01mraise\u001b[39;00m WireError(\n\u001b[1;32m    143\u001b[0m         \u001b[38;5;124mf\u001b[39m\u001b[38;5;124m\"\u001b[39m\u001b[38;5;124mCannot run circuit(s) on \u001b[39m\u001b[38;5;132;01m{\u001b[39;00mname\u001b[38;5;132;01m}\u001b[39;00m\u001b[38;5;124m as abstract wires are present in the device: \u001b[39m\u001b[38;5;132;01m{\u001b[39;00mwires\u001b[38;5;132;01m}\u001b[39;00m\u001b[38;5;124m. \u001b[39m\u001b[38;5;124m\"\u001b[39m\n\u001b[1;32m    144\u001b[0m         \u001b[38;5;124mf\u001b[39m\u001b[38;5;124m\"\u001b[39m\u001b[38;5;124mAbstract wires are not yet supported.\u001b[39m\u001b[38;5;124m\"\u001b[39m\n\u001b[1;32m    145\u001b[0m     )\n\u001b[1;32m    147\u001b[0m \u001b[38;5;28;01mif\u001b[39;00m extra_wires \u001b[38;5;241m:=\u001b[39m \u001b[38;5;28mset\u001b[39m(tape\u001b[38;5;241m.\u001b[39mwires) \u001b[38;5;241m-\u001b[39m \u001b[38;5;28mset\u001b[39m(wires):\n\u001b[0;32m--> 148\u001b[0m     \u001b[38;5;28;01mraise\u001b[39;00m WireError(\n\u001b[1;32m    149\u001b[0m         \u001b[38;5;124mf\u001b[39m\u001b[38;5;124m\"\u001b[39m\u001b[38;5;124mCannot run circuit(s) on \u001b[39m\u001b[38;5;132;01m{\u001b[39;00mname\u001b[38;5;132;01m}\u001b[39;00m\u001b[38;5;124m as they contain wires \u001b[39m\u001b[38;5;124m\"\u001b[39m\n\u001b[1;32m    150\u001b[0m         \u001b[38;5;124mf\u001b[39m\u001b[38;5;124m\"\u001b[39m\u001b[38;5;124mnot found on the device: \u001b[39m\u001b[38;5;132;01m{\u001b[39;00mextra_wires\u001b[38;5;132;01m}\u001b[39;00m\u001b[38;5;124m\"\u001b[39m\n\u001b[1;32m    151\u001b[0m     )\n\u001b[1;32m    153\u001b[0m modified \u001b[38;5;241m=\u001b[39m \u001b[38;5;28;01mFalse\u001b[39;00m\n\u001b[1;32m    154\u001b[0m new_ops \u001b[38;5;241m=\u001b[39m \u001b[38;5;28;01mNone\u001b[39;00m\n",
      "\u001b[0;31mWireError\u001b[0m: Cannot run circuit(s) on lightning.qubit as they contain wires not found on the device: {1, 2, 3, 4, 5, 6, 7, 8, 9, 10, 11, 12, 13, 14, 15}"
     ]
    }
   ],
   "source": [
    "def noise_layer(epsilon):\n",
    "    \"apply a random rotation to each qubit\"\n",
    "    for q in range(2 * qubits):\n",
    "        angles = (2 * np.random.rand(3) - 1) * epsilon\n",
    "        qml.Rot(angles[0], angles[1], angles[2], wires=q)\n",
    "\n",
    "@qml.qnode(dev)\n",
    "def enhanced_circuit(ts=False):\n",
    "    \"implement the enhanced circuit, using a random unitary with a noise layer\"\n",
    "\n",
    "    if ts == True:\n",
    "        ops = [qml.RY]\n",
    "    else:\n",
    "        ops = [qml.RX, qml.RY, qml.RZ]\n",
    "\n",
    "    weights = np.random.rand(layers, n_shots) * np.pi\n",
    "    seed = np.random.randint(0, 10000)\n",
    "\n",
    "    for q in range(qubits):\n",
    "        qml.Hadamard(wires=q)\n",
    "\n",
    "    CNOT_sequence(control_wires=range(qubits), target_wires=range(qubits, 2 * qubits))\n",
    "    RandomLayers(weights, wires=range(0, qubits), rotations=ops, seed=seed)\n",
    "    RandomLayers(weights, wires=range(qubits, 2 * qubits), rotations=ops, seed=seed)\n",
    "    noise_layer(np.pi / 4)  # added noise layer\n",
    "    CNOT_sequence(control_wires=range(qubits, 2 * qubits), target_wires=range(qubits))\n",
    "\n",
    "    for q in range(qubits):\n",
    "        qml.Hadamard(wires=qubits + q)\n",
    "\n",
    "    return [qml.sample(op=qml.PauliZ(q)) for q in range(2 * qubits)]\n",
    "\n",
    "raw_data = []\n",
    "\n",
    "for ts in [True, False]:\n",
    "    for __ in range(circuits):\n",
    "        raw_data.append(enhanced_circuit(ts))\n",
    "\n",
    "data = process_data(raw_data)\n",
    "\n",
    "kernel_pca = KernelPCA(\n",
    "    n_components=None, kernel=\"rbf\", gamma=None, fit_inverse_transform=True, alpha=0.1\n",
    ")\n",
    "scaler = preprocessing.StandardScaler().fit(data)\n",
    "data = scaler.transform(data)\n",
    "fit = kernel_pca.fit(data).transform(data)\n",
    "\n",
    "c = np.array([0 for __ in range(circuits)] + [1 for __ in range(circuits)])\n",
    "plt.scatter(fit[:, 0], fit[:, 1], c=c)\n",
    "plt.show()"
   ]
  }
 ],
 "metadata": {
  "kernelspec": {
   "display_name": "qiskit",
   "language": "python",
   "name": "qiskit"
  },
  "language_info": {
   "codemirror_mode": {
    "name": "ipython",
    "version": 3
   },
   "file_extension": ".py",
   "mimetype": "text/x-python",
   "name": "python",
   "nbconvert_exporter": "python",
   "pygments_lexer": "ipython3",
   "version": "3.13.1"
  }
 },
 "nbformat": 4,
 "nbformat_minor": 5
}
